{
 "cells": [
  {
   "cell_type": "code",
   "execution_count": 11,
   "metadata": {},
   "outputs": [],
   "source": [
    "from llama_index.core.agent import ReActAgent\n",
    "from llama_index.core.tools import FunctionTool"
   ]
  },
  {
   "cell_type": "code",
   "execution_count": 16,
   "metadata": {},
   "outputs": [],
   "source": [
    "def multiply(a: float, b: float) -> float:\n",
    "    \"\"\"Multiply two numbers and returns the product\"\"\"\n",
    "    return a * b\n",
    "\n",
    "\n",
    "multiply_tool = FunctionTool.from_defaults(fn=multiply)\n",
    "\n",
    "\n",
    "def add(a: float, b: float) -> float:\n",
    "    \"\"\"Add two numbers and returns the sum\"\"\"\n",
    "    return a + b\n",
    "\n",
    "\n",
    "add_tool = FunctionTool.from_defaults(fn=add)"
   ]
  },
  {
   "cell_type": "code",
   "execution_count": 22,
   "metadata": {},
   "outputs": [],
   "source": [
    "from llama_index.llms.ollama import Ollama\n",
    "\n",
    "llm = Ollama(model=\"llama3.2:3b-instruct-q8_0\", request_timeout=120.0, n_gpu_layers = -1)"
   ]
  },
  {
   "cell_type": "code",
   "execution_count": 23,
   "metadata": {},
   "outputs": [],
   "source": [
    "agent = ReActAgent.from_tools([multiply_tool, add_tool], llm=llm, verbose=True)"
   ]
  },
  {
   "cell_type": "code",
   "execution_count": 24,
   "metadata": {},
   "outputs": [
    {
     "name": "stdout",
     "output_type": "stream",
     "text": [
      "> Running step 42563c05-10bc-422b-89fc-beb352803898. Step input: What is 20+(2*4)? Use a tool to calculate every step.\n",
      "\u001b[1;3;38;5;200mThought: The current expression is 20+(2*4). I need to use a tool to help me evaluate this expression.\n",
      "Action: add\n",
      "Action Input: {'a': 20, 'b': AttributedDict([('first operand', AttributedDict([('a', 2), ('b', 4)])), ('operator', '+')])}\n",
      "\u001b[0m\u001b[1;3;34mObservation: Error: unsupported operand type(s) for +: 'int' and 'AttributedDict'\n",
      "\u001b[0m> Running step 6d16acf9-6e56-468a-b082-f9b15f575fe3. Step input: None\n",
      "\u001b[1;3;38;5;200mThought: The tool add is not able to handle the expression 20+(2*4). I need to use another tool to evaluate the multiplication first.\n",
      "Action: multiply\n",
      "Action Input: {'a': 2, 'b': 4}\n",
      "\u001b[0m\u001b[1;3;34mObservation: 8\n",
      "\u001b[0m> Running step 1a0ce86d-da36-4313-bbd0-b1bb46581536. Step input: None\n",
      "\u001b[1;3;38;5;200mThought: The result of multiplying 2 and 4 is 8. Now I can proceed with adding this result to 20 using the tool add.\n",
      "Action: add\n",
      "Action Input: {'a': 20, 'b': 8}\n",
      "\u001b[0m\u001b[1;3;34mObservation: 28\n",
      "\u001b[0m> Running step 1bd93cb6-077e-41a6-ab98-34a14b3f4c6f. Step input: None\n",
      "\u001b[1;3;34mObservation: Error: Could not parse output. Please follow the thought-action-input format. Try again.\n",
      "\u001b[0m> Running step 84cd8ebe-b3c2-43b0-99ff-b72aa92eee40. Step input: None\n",
      "\u001b[1;3;34mObservation: Error: Could not parse output. Please follow the thought-action-input format. Try again.\n",
      "\u001b[0m> Running step c659fa9a-22a8-417f-bc30-69c61483e2aa. Step input: None\n",
      "\u001b[1;3;34mObservation: Error: Could not parse output. Please follow the thought-action-input format. Try again.\n",
      "\u001b[0m> Running step 8d449aac-9d9b-46e4-91fe-d00143339343. Step input: None\n",
      "\u001b[1;3;38;5;200mThought: The result of adding 20 and 8 is 28. I need to reformat my response to match the required format.\n",
      "Action: add\n",
      "Action Input: {'a': 20, 'b': 8}\n",
      "\u001b[0m\u001b[1;3;34mObservation: 28\n",
      "\u001b[0m> Running step cdd21a76-b874-4184-98f6-1dd8e11dbf19. Step input: None\n",
      "\u001b[1;3;38;5;200mThought: I can answer without using any more tools. I'll use English to answer\n",
      "Answer: The result of 20+(2*4) is 28\n",
      "\u001b[0m"
     ]
    }
   ],
   "source": [
    "response = agent.chat(\"What is 20+(2*4)? Use a tool to calculate every step.\")"
   ]
  },
  {
   "cell_type": "code",
   "execution_count": null,
   "metadata": {},
   "outputs": [],
   "source": []
  }
 ],
 "metadata": {
  "kernelspec": {
   "display_name": "lauz24",
   "language": "python",
   "name": "python3"
  },
  "language_info": {
   "codemirror_mode": {
    "name": "ipython",
    "version": 3
   },
   "file_extension": ".py",
   "mimetype": "text/x-python",
   "name": "python",
   "nbconvert_exporter": "python",
   "pygments_lexer": "ipython3",
   "version": "3.12.7"
  }
 },
 "nbformat": 4,
 "nbformat_minor": 2
}
